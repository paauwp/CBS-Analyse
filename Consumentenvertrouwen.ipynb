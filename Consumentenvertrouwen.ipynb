{
 "cells": [
  {
   "cell_type": "code",
   "execution_count": 3,
   "metadata": {},
   "outputs": [],
   "source": [
    "import pandas as pd\n",
    "import numpy as np\n",
    "import matplotlib.pyplot as plt\n",
    "import seaborn as sns\n",
    "%matplotlib inline"
   ]
  },
  {
   "cell_type": "code",
   "execution_count": 4,
   "metadata": {},
   "outputs": [],
   "source": [
    "dataframe = pd.read_csv('consumenten.csv', index_col=\"Segment\", squeeze=True)"
   ]
  },
  {
   "cell_type": "code",
   "execution_count": 5,
   "metadata": {},
   "outputs": [
    {
     "data": {
      "text/html": [
       "<div>\n",
       "<style scoped>\n",
       "    .dataframe tbody tr th:only-of-type {\n",
       "        vertical-align: middle;\n",
       "    }\n",
       "\n",
       "    .dataframe tbody tr th {\n",
       "        vertical-align: top;\n",
       "    }\n",
       "\n",
       "    .dataframe thead th {\n",
       "        text-align: right;\n",
       "    }\n",
       "</style>\n",
       "<table border=\"1\" class=\"dataframe\">\n",
       "  <thead>\n",
       "    <tr style=\"text-align: right;\">\n",
       "      <th></th>\n",
       "      <th>1986 April</th>\n",
       "      <th>1986 mei</th>\n",
       "      <th>1986 juni</th>\n",
       "      <th>1986 juli</th>\n",
       "      <th>1986 augustus</th>\n",
       "      <th>1986 September</th>\n",
       "      <th>1986 oktober</th>\n",
       "      <th>1986 November</th>\n",
       "      <th>1986 December</th>\n",
       "      <th>1987 januari</th>\n",
       "      <th>...</th>\n",
       "      <th>2019 januari</th>\n",
       "      <th>2019 februari</th>\n",
       "      <th>2019 maart</th>\n",
       "      <th>2019 April</th>\n",
       "      <th>2019 mei</th>\n",
       "      <th>2019 juni</th>\n",
       "      <th>2019 juli</th>\n",
       "      <th>2019 augustus</th>\n",
       "      <th>2019 September</th>\n",
       "      <th>2019 oktober</th>\n",
       "    </tr>\n",
       "    <tr>\n",
       "      <th>Segment</th>\n",
       "      <th></th>\n",
       "      <th></th>\n",
       "      <th></th>\n",
       "      <th></th>\n",
       "      <th></th>\n",
       "      <th></th>\n",
       "      <th></th>\n",
       "      <th></th>\n",
       "      <th></th>\n",
       "      <th></th>\n",
       "      <th></th>\n",
       "      <th></th>\n",
       "      <th></th>\n",
       "      <th></th>\n",
       "      <th></th>\n",
       "      <th></th>\n",
       "      <th></th>\n",
       "      <th></th>\n",
       "      <th></th>\n",
       "      <th></th>\n",
       "      <th></th>\n",
       "    </tr>\n",
       "  </thead>\n",
       "  <tbody>\n",
       "    <tr>\n",
       "      <th>Consumentenvertrouwen</th>\n",
       "      <td>2</td>\n",
       "      <td>8</td>\n",
       "      <td>15</td>\n",
       "      <td>20</td>\n",
       "      <td>21</td>\n",
       "      <td>21</td>\n",
       "      <td>21</td>\n",
       "      <td>21</td>\n",
       "      <td>20</td>\n",
       "      <td>22</td>\n",
       "      <td>...</td>\n",
       "      <td>1</td>\n",
       "      <td>-2</td>\n",
       "      <td>-4</td>\n",
       "      <td>-3</td>\n",
       "      <td>-3</td>\n",
       "      <td>0</td>\n",
       "      <td>2</td>\n",
       "      <td>0</td>\n",
       "      <td>-2</td>\n",
       "      <td>-1</td>\n",
       "    </tr>\n",
       "    <tr>\n",
       "      <th>Economisch klimaat</th>\n",
       "      <td>6</td>\n",
       "      <td>17</td>\n",
       "      <td>33</td>\n",
       "      <td>45</td>\n",
       "      <td>47</td>\n",
       "      <td>45</td>\n",
       "      <td>45</td>\n",
       "      <td>44</td>\n",
       "      <td>43</td>\n",
       "      <td>45</td>\n",
       "      <td>...</td>\n",
       "      <td>3</td>\n",
       "      <td>1</td>\n",
       "      <td>-3</td>\n",
       "      <td>-3</td>\n",
       "      <td>-2</td>\n",
       "      <td>2</td>\n",
       "      <td>6</td>\n",
       "      <td>-1</td>\n",
       "      <td>-3</td>\n",
       "      <td>-4</td>\n",
       "    </tr>\n",
       "    <tr>\n",
       "      <th>Koopbereidheid</th>\n",
       "      <td>0</td>\n",
       "      <td>1</td>\n",
       "      <td>3</td>\n",
       "      <td>4</td>\n",
       "      <td>4</td>\n",
       "      <td>5</td>\n",
       "      <td>6</td>\n",
       "      <td>5</td>\n",
       "      <td>5</td>\n",
       "      <td>6</td>\n",
       "      <td>...</td>\n",
       "      <td>-1</td>\n",
       "      <td>-3</td>\n",
       "      <td>-4</td>\n",
       "      <td>-3</td>\n",
       "      <td>-3</td>\n",
       "      <td>-2</td>\n",
       "      <td>-1</td>\n",
       "      <td>0</td>\n",
       "      <td>-1</td>\n",
       "      <td>1</td>\n",
       "    </tr>\n",
       "    <tr>\n",
       "      <th>Economische situatie afgelopen 12 maande</th>\n",
       "      <td>6</td>\n",
       "      <td>17</td>\n",
       "      <td>35</td>\n",
       "      <td>49</td>\n",
       "      <td>53</td>\n",
       "      <td>52</td>\n",
       "      <td>52</td>\n",
       "      <td>50</td>\n",
       "      <td>49</td>\n",
       "      <td>51</td>\n",
       "      <td>...</td>\n",
       "      <td>16</td>\n",
       "      <td>14</td>\n",
       "      <td>9</td>\n",
       "      <td>8</td>\n",
       "      <td>7</td>\n",
       "      <td>11</td>\n",
       "      <td>13</td>\n",
       "      <td>9</td>\n",
       "      <td>8</td>\n",
       "      <td>7</td>\n",
       "    </tr>\n",
       "    <tr>\n",
       "      <th>Economisch situatie komende 12 maanden</th>\n",
       "      <td>5</td>\n",
       "      <td>16</td>\n",
       "      <td>30</td>\n",
       "      <td>41</td>\n",
       "      <td>41</td>\n",
       "      <td>39</td>\n",
       "      <td>39</td>\n",
       "      <td>38</td>\n",
       "      <td>37</td>\n",
       "      <td>39</td>\n",
       "      <td>...</td>\n",
       "      <td>-9</td>\n",
       "      <td>-13</td>\n",
       "      <td>-15</td>\n",
       "      <td>-13</td>\n",
       "      <td>-12</td>\n",
       "      <td>-7</td>\n",
       "      <td>-1</td>\n",
       "      <td>-10</td>\n",
       "      <td>-14</td>\n",
       "      <td>-14</td>\n",
       "    </tr>\n",
       "  </tbody>\n",
       "</table>\n",
       "<p>5 rows × 403 columns</p>\n",
       "</div>"
      ],
      "text/plain": [
       "                                          1986 April  1986 mei  1986 juni  \\\n",
       "Segment                                                                     \n",
       "Consumentenvertrouwen                              2         8         15   \n",
       "Economisch klimaat                                 6        17         33   \n",
       "Koopbereidheid                                     0         1          3   \n",
       "Economische situatie afgelopen 12 maande           6        17         35   \n",
       "Economisch situatie komende 12 maanden             5        16         30   \n",
       "\n",
       "                                          1986 juli  1986 augustus  \\\n",
       "Segment                                                              \n",
       "Consumentenvertrouwen                            20             21   \n",
       "Economisch klimaat                               45             47   \n",
       "Koopbereidheid                                    4              4   \n",
       "Economische situatie afgelopen 12 maande         49             53   \n",
       "Economisch situatie komende 12 maanden           41             41   \n",
       "\n",
       "                                          1986 September  1986 oktober  \\\n",
       "Segment                                                                  \n",
       "Consumentenvertrouwen                                 21            21   \n",
       "Economisch klimaat                                    45            45   \n",
       "Koopbereidheid                                         5             6   \n",
       "Economische situatie afgelopen 12 maande              52            52   \n",
       "Economisch situatie komende 12 maanden                39            39   \n",
       "\n",
       "                                          1986 November  1986 December  \\\n",
       "Segment                                                                  \n",
       "Consumentenvertrouwen                                21             20   \n",
       "Economisch klimaat                                   44             43   \n",
       "Koopbereidheid                                        5              5   \n",
       "Economische situatie afgelopen 12 maande             50             49   \n",
       "Economisch situatie komende 12 maanden               38             37   \n",
       "\n",
       "                                          1987 januari      ...       \\\n",
       "Segment                                                     ...        \n",
       "Consumentenvertrouwen                               22      ...        \n",
       "Economisch klimaat                                  45      ...        \n",
       "Koopbereidheid                                       6      ...        \n",
       "Economische situatie afgelopen 12 maande            51      ...        \n",
       "Economisch situatie komende 12 maanden              39      ...        \n",
       "\n",
       "                                          2019 januari  2019 februari  \\\n",
       "Segment                                                                 \n",
       "Consumentenvertrouwen                                1             -2   \n",
       "Economisch klimaat                                   3              1   \n",
       "Koopbereidheid                                      -1             -3   \n",
       "Economische situatie afgelopen 12 maande            16             14   \n",
       "Economisch situatie komende 12 maanden              -9            -13   \n",
       "\n",
       "                                          2019 maart  2019 April  2019 mei  \\\n",
       "Segment                                                                      \n",
       "Consumentenvertrouwen                             -4          -3        -3   \n",
       "Economisch klimaat                                -3          -3        -2   \n",
       "Koopbereidheid                                    -4          -3        -3   \n",
       "Economische situatie afgelopen 12 maande           9           8         7   \n",
       "Economisch situatie komende 12 maanden           -15         -13       -12   \n",
       "\n",
       "                                          2019 juni  2019 juli  2019 augustus  \\\n",
       "Segment                                                                         \n",
       "Consumentenvertrouwen                             0          2              0   \n",
       "Economisch klimaat                                2          6             -1   \n",
       "Koopbereidheid                                   -2         -1              0   \n",
       "Economische situatie afgelopen 12 maande         11         13              9   \n",
       "Economisch situatie komende 12 maanden           -7         -1            -10   \n",
       "\n",
       "                                          2019 September  2019 oktober  \n",
       "Segment                                                                 \n",
       "Consumentenvertrouwen                                 -2            -1  \n",
       "Economisch klimaat                                    -3            -4  \n",
       "Koopbereidheid                                        -1             1  \n",
       "Economische situatie afgelopen 12 maande               8             7  \n",
       "Economisch situatie komende 12 maanden               -14           -14  \n",
       "\n",
       "[5 rows x 403 columns]"
      ]
     },
     "execution_count": 5,
     "metadata": {},
     "output_type": "execute_result"
    }
   ],
   "source": [
    "dataframe.head()"
   ]
  },
  {
   "cell_type": "code",
   "execution_count": 8,
   "metadata": {},
   "outputs": [],
   "source": [
    "dftranspose = dataframe.transpose()"
   ]
  },
  {
   "cell_type": "code",
   "execution_count": 18,
   "metadata": {},
   "outputs": [
    {
     "data": {
      "text/html": [
       "<div>\n",
       "<style scoped>\n",
       "    .dataframe tbody tr th:only-of-type {\n",
       "        vertical-align: middle;\n",
       "    }\n",
       "\n",
       "    .dataframe tbody tr th {\n",
       "        vertical-align: top;\n",
       "    }\n",
       "\n",
       "    .dataframe thead th {\n",
       "        text-align: right;\n",
       "    }\n",
       "</style>\n",
       "<table border=\"1\" class=\"dataframe\">\n",
       "  <thead>\n",
       "    <tr style=\"text-align: right;\">\n",
       "      <th>Segment</th>\n",
       "      <th>Consumentenvertrouwen</th>\n",
       "      <th>Economisch klimaat</th>\n",
       "      <th>Koopbereidheid</th>\n",
       "      <th>Economische situatie afgelopen 12 maande</th>\n",
       "      <th>Economisch situatie komende 12 maanden</th>\n",
       "      <th>Financiële situatie afgelopen 12 maanden</th>\n",
       "      <th>Financiële situatie komende 12 maanden</th>\n",
       "      <th>Gunstige tijd voor grote aankopen</th>\n",
       "    </tr>\n",
       "  </thead>\n",
       "  <tbody>\n",
       "    <tr>\n",
       "      <th>1986 April</th>\n",
       "      <td>2</td>\n",
       "      <td>6</td>\n",
       "      <td>0</td>\n",
       "      <td>6</td>\n",
       "      <td>5</td>\n",
       "      <td>0</td>\n",
       "      <td>1</td>\n",
       "      <td>-1</td>\n",
       "    </tr>\n",
       "    <tr>\n",
       "      <th>1986 mei</th>\n",
       "      <td>8</td>\n",
       "      <td>17</td>\n",
       "      <td>1</td>\n",
       "      <td>17</td>\n",
       "      <td>16</td>\n",
       "      <td>1</td>\n",
       "      <td>5</td>\n",
       "      <td>-2</td>\n",
       "    </tr>\n",
       "    <tr>\n",
       "      <th>1986 juni</th>\n",
       "      <td>15</td>\n",
       "      <td>33</td>\n",
       "      <td>3</td>\n",
       "      <td>35</td>\n",
       "      <td>30</td>\n",
       "      <td>2</td>\n",
       "      <td>11</td>\n",
       "      <td>-5</td>\n",
       "    </tr>\n",
       "    <tr>\n",
       "      <th>1986 juli</th>\n",
       "      <td>20</td>\n",
       "      <td>45</td>\n",
       "      <td>4</td>\n",
       "      <td>49</td>\n",
       "      <td>41</td>\n",
       "      <td>4</td>\n",
       "      <td>12</td>\n",
       "      <td>-6</td>\n",
       "    </tr>\n",
       "    <tr>\n",
       "      <th>1986 augustus</th>\n",
       "      <td>21</td>\n",
       "      <td>47</td>\n",
       "      <td>4</td>\n",
       "      <td>53</td>\n",
       "      <td>41</td>\n",
       "      <td>7</td>\n",
       "      <td>14</td>\n",
       "      <td>-7</td>\n",
       "    </tr>\n",
       "  </tbody>\n",
       "</table>\n",
       "</div>"
      ],
      "text/plain": [
       "Segment        Consumentenvertrouwen  Economisch klimaat  Koopbereidheid  \\\n",
       "1986 April                         2                   6               0   \n",
       "1986 mei                           8                  17               1   \n",
       "1986 juni                         15                  33               3   \n",
       "1986 juli                         20                  45               4   \n",
       "1986 augustus                     21                  47               4   \n",
       "\n",
       "Segment        Economische situatie afgelopen 12 maande  \\\n",
       "1986 April                                            6   \n",
       "1986 mei                                             17   \n",
       "1986 juni                                            35   \n",
       "1986 juli                                            49   \n",
       "1986 augustus                                        53   \n",
       "\n",
       "Segment        Economisch situatie komende 12 maanden  \\\n",
       "1986 April                                          5   \n",
       "1986 mei                                           16   \n",
       "1986 juni                                          30   \n",
       "1986 juli                                          41   \n",
       "1986 augustus                                      41   \n",
       "\n",
       "Segment        Financiële situatie afgelopen 12 maanden  \\\n",
       "1986 April                                            0   \n",
       "1986 mei                                              1   \n",
       "1986 juni                                             2   \n",
       "1986 juli                                             4   \n",
       "1986 augustus                                         7   \n",
       "\n",
       "Segment        Financiële situatie komende 12 maanden  \\\n",
       "1986 April                                          1   \n",
       "1986 mei                                            5   \n",
       "1986 juni                                          11   \n",
       "1986 juli                                          12   \n",
       "1986 augustus                                      14   \n",
       "\n",
       "Segment        Gunstige tijd voor grote aankopen  \n",
       "1986 April                                    -1  \n",
       "1986 mei                                      -2  \n",
       "1986 juni                                     -5  \n",
       "1986 juli                                     -6  \n",
       "1986 augustus                                 -7  "
      ]
     },
     "execution_count": 18,
     "metadata": {},
     "output_type": "execute_result"
    }
   ],
   "source": [
    "dftranspose.head()"
   ]
  },
  {
   "cell_type": "code",
   "execution_count": 25,
   "metadata": {},
   "outputs": [
    {
     "data": {
      "text/plain": [
       "<seaborn.axisgrid.FacetGrid at 0x1edb685d048>"
      ]
     },
     "execution_count": 25,
     "metadata": {},
     "output_type": "execute_result"
    },
    {
     "data": {
      "image/png": "[encoded data removed]",
      "text/plain": [
       "<Figure size 360x360 with 1 Axes>"
      ]
     },
     "metadata": {
      "needs_background": "light"
     },
     "output_type": "display_data"
    }
   ],
   "source": [
    "sns.lmplot(x='Consumentenvertrouwen',  y='Gunstige tijd voor grote aankopen', data=dftranspose)"
   ]
  },
  {
   "cell_type": "code",
   "execution_count": 26,
   "metadata": {},
   "outputs": [
    {
     "data": {
      "text/html": [
       "<div>\n",
       "<style scoped>\n",
       "    .dataframe tbody tr th:only-of-type {\n",
       "        vertical-align: middle;\n",
       "    }\n",
       "\n",
       "    .dataframe tbody tr th {\n",
       "        vertical-align: top;\n",
       "    }\n",
       "\n",
       "    .dataframe thead th {\n",
       "        text-align: right;\n",
       "    }\n",
       "</style>\n",
       "<table border=\"1\" class=\"dataframe\">\n",
       "  <thead>\n",
       "    <tr style=\"text-align: right;\">\n",
       "      <th>Segment</th>\n",
       "      <th>Consumentenvertrouwen</th>\n",
       "      <th>Economisch klimaat</th>\n",
       "      <th>Koopbereidheid</th>\n",
       "      <th>Economische situatie afgelopen 12 maande</th>\n",
       "      <th>Economisch situatie komende 12 maanden</th>\n",
       "      <th>Financiële situatie afgelopen 12 maanden</th>\n",
       "      <th>Financiële situatie komende 12 maanden</th>\n",
       "      <th>Gunstige tijd voor grote aankopen</th>\n",
       "    </tr>\n",
       "  </thead>\n",
       "  <tbody>\n",
       "    <tr>\n",
       "      <th>count</th>\n",
       "      <td>403.000000</td>\n",
       "      <td>403.000000</td>\n",
       "      <td>403.000000</td>\n",
       "      <td>403.000000</td>\n",
       "      <td>403.000000</td>\n",
       "      <td>403.000000</td>\n",
       "      <td>403.000000</td>\n",
       "      <td>403.000000</td>\n",
       "    </tr>\n",
       "    <tr>\n",
       "      <th>mean</th>\n",
       "      <td>0.826303</td>\n",
       "      <td>-0.910670</td>\n",
       "      <td>2.002481</td>\n",
       "      <td>-6.292804</td>\n",
       "      <td>4.399504</td>\n",
       "      <td>0.575682</td>\n",
       "      <td>9.183623</td>\n",
       "      <td>-3.786600</td>\n",
       "    </tr>\n",
       "    <tr>\n",
       "      <th>std</th>\n",
       "      <td>19.252178</td>\n",
       "      <td>32.373012</td>\n",
       "      <td>14.129201</td>\n",
       "      <td>41.139051</td>\n",
       "      <td>28.368431</td>\n",
       "      <td>16.515366</td>\n",
       "      <td>11.847330</td>\n",
       "      <td>17.775944</td>\n",
       "    </tr>\n",
       "    <tr>\n",
       "      <th>min</th>\n",
       "      <td>-41.000000</td>\n",
       "      <td>-66.000000</td>\n",
       "      <td>-29.000000</td>\n",
       "      <td>-84.000000</td>\n",
       "      <td>-61.000000</td>\n",
       "      <td>-38.000000</td>\n",
       "      <td>-27.000000</td>\n",
       "      <td>-43.000000</td>\n",
       "    </tr>\n",
       "    <tr>\n",
       "      <th>25%</th>\n",
       "      <td>-14.000000</td>\n",
       "      <td>-28.000000</td>\n",
       "      <td>-8.000000</td>\n",
       "      <td>-43.500000</td>\n",
       "      <td>-18.500000</td>\n",
       "      <td>-12.000000</td>\n",
       "      <td>1.000000</td>\n",
       "      <td>-15.000000</td>\n",
       "    </tr>\n",
       "    <tr>\n",
       "      <th>50%</th>\n",
       "      <td>1.000000</td>\n",
       "      <td>2.000000</td>\n",
       "      <td>3.000000</td>\n",
       "      <td>3.000000</td>\n",
       "      <td>10.000000</td>\n",
       "      <td>1.000000</td>\n",
       "      <td>9.000000</td>\n",
       "      <td>-4.000000</td>\n",
       "    </tr>\n",
       "    <tr>\n",
       "      <th>75%</th>\n",
       "      <td>17.000000</td>\n",
       "      <td>28.500000</td>\n",
       "      <td>10.000000</td>\n",
       "      <td>28.500000</td>\n",
       "      <td>28.000000</td>\n",
       "      <td>12.000000</td>\n",
       "      <td>18.000000</td>\n",
       "      <td>7.000000</td>\n",
       "    </tr>\n",
       "    <tr>\n",
       "      <th>max</th>\n",
       "      <td>36.000000</td>\n",
       "      <td>50.000000</td>\n",
       "      <td>34.000000</td>\n",
       "      <td>55.000000</td>\n",
       "      <td>49.000000</td>\n",
       "      <td>32.000000</td>\n",
       "      <td>35.000000</td>\n",
       "      <td>36.000000</td>\n",
       "    </tr>\n",
       "  </tbody>\n",
       "</table>\n",
       "</div>"
      ],
      "text/plain": [
       "Segment  Consumentenvertrouwen  Economisch klimaat  Koopbereidheid  \\\n",
       "count               403.000000          403.000000      403.000000   \n",
       "mean                  0.826303           -0.910670        2.002481   \n",
       "std                  19.252178           32.373012       14.129201   \n",
       "min                 -41.000000          -66.000000      -29.000000   \n",
       "25%                 -14.000000          -28.000000       -8.000000   \n",
       "50%                   1.000000            2.000000        3.000000   \n",
       "75%                  17.000000           28.500000       10.000000   \n",
       "max                  36.000000           50.000000       34.000000   \n",
       "\n",
       "Segment  Economische situatie afgelopen 12 maande  \\\n",
       "count                                  403.000000   \n",
       "mean                                    -6.292804   \n",
       "std                                     41.139051   \n",
       "min                                    -84.000000   \n",
       "25%                                    -43.500000   \n",
       "50%                                      3.000000   \n",
       "75%                                     28.500000   \n",
       "max                                     55.000000   \n",
       "\n",
       "Segment  Economisch situatie komende 12 maanden  \\\n",
       "count                                403.000000   \n",
       "mean                                   4.399504   \n",
       "std                                   28.368431   \n",
       "min                                  -61.000000   \n",
       "25%                                  -18.500000   \n",
       "50%                                   10.000000   \n",
       "75%                                   28.000000   \n",
       "max                                   49.000000   \n",
       "\n",
       "Segment  Financiële situatie afgelopen 12 maanden  \\\n",
       "count                                  403.000000   \n",
       "mean                                     0.575682   \n",
       "std                                     16.515366   \n",
       "min                                    -38.000000   \n",
       "25%                                    -12.000000   \n",
       "50%                                      1.000000   \n",
       "75%                                     12.000000   \n",
       "max                                     32.000000   \n",
       "\n",
       "Segment  Financiële situatie komende 12 maanden  \\\n",
       "count                                403.000000   \n",
       "mean                                   9.183623   \n",
       "std                                   11.847330   \n",
       "min                                  -27.000000   \n",
       "25%                                    1.000000   \n",
       "50%                                    9.000000   \n",
       "75%                                   18.000000   \n",
       "max                                   35.000000   \n",
       "\n",
       "Segment  Gunstige tijd voor grote aankopen  \n",
       "count                           403.000000  \n",
       "mean                             -3.786600  \n",
       "std                              17.775944  \n",
       "min                             -43.000000  \n",
       "25%                             -15.000000  \n",
       "50%                              -4.000000  \n",
       "75%                               7.000000  \n",
       "max                              36.000000  "
      ]
     },
     "execution_count": 26,
     "metadata": {},
     "output_type": "execute_result"
    }
   ],
   "source": [
    "dftranspose.describe()"
   ]
  },
  {
   "cell_type": "code",
   "execution_count": 27,
   "metadata": {},
   "outputs": [
    {
     "data": {
      "text/plain": [
       "array([[<matplotlib.axes._subplots.AxesSubplot object at 0x000001EDB845D6A0>]],\n",
       "      dtype=object)"
      ]
     },
     "execution_count": 27,
     "metadata": {},
     "output_type": "execute_result"
    },
    {
     "data": {
      "image/png": "[encoded data removed]",
      "text/plain": [
       "<Figure size 432x288 with 1 Axes>"
      ]
     },
     "metadata": {
      "needs_background": "light"
     },
     "output_type": "display_data"
    }
   ],
   "source": [
    "dftranspose.hist(\"Consumentenvertrouwen\")"
   ]
  },
  {
   "cell_type": "code",
   "execution_count": 9,
   "metadata": {},
   "outputs": [
    {
     "data": {
      "text/plain": [
       "Index(['Consumentenvertrouwen', 'Economisch klimaat', 'Koopbereidheid',\n",
       "       'Economische situatie afgelopen 12 maande',\n",
       "       'Economisch situatie komende 12 maanden',\n",
       "       'Financiële situatie afgelopen 12 maanden',\n",
       "       'Financiële situatie komende 12 maanden',\n",
       "       'Gunstige tijd voor grote aankopen'],\n",
       "      dtype='object', name='Segment')"
      ]
     },
     "execution_count": 9,
     "metadata": {},
     "output_type": "execute_result"
    }
   ],
   "source": [
    "dftranspose.columns"
   ]
  },
  {
   "cell_type": "code",
   "execution_count": 10,
   "metadata": {},
   "outputs": [
    {
     "data": {
      "text/plain": [
       "<matplotlib.axes._subplots.AxesSubplot at 0x202613982b0>"
      ]
     },
     "execution_count": 10,
     "metadata": {},
     "output_type": "execute_result"
    },
    {
     "data": {
      "image/png": "[encoded data removed]",
      "text/plain": [
       "<Figure size 432x288 with 2 Axes>"
      ]
     },
     "metadata": {
      "needs_background": "light"
     },
     "output_type": "display_data"
    }
   ],
   "source": [
    "sns.heatmap(dftranspose.corr(), cmap='coolwarm', annot=True)"
   ]
  },
  {
   "cell_type": "code",
   "execution_count": 17,
   "metadata": {},
   "outputs": [],
   "source": [
    "X = dftranspose[['Economisch klimaat', 'Koopbereidheid',\n",
    "       'Economische situatie afgelopen 12 maande',\n",
    "       'Economisch situatie komende 12 maanden',\n",
    "       'Financiële situatie afgelopen 12 maanden',\n",
    "       'Financiële situatie komende 12 maanden',\n",
    "       'Gunstige tijd voor grote aankopen']]"
   ]
  },
  {
   "cell_type": "code",
   "execution_count": 12,
   "metadata": {},
   "outputs": [],
   "source": [
    "y = dftranspose['Consumentenvertrouwen']"
   ]
  },
  {
   "cell_type": "code",
   "execution_count": 13,
   "metadata": {},
   "outputs": [],
   "source": [
    "from sklearn.model_selection import train_test_split"
   ]
  },
  {
   "cell_type": "code",
   "execution_count": 18,
   "metadata": {},
   "outputs": [],
   "source": [
    "X_train, X_test, y_train, y_test = train_test_split(X, y, test_size=0.4, random_state=101)"
   ]
  },
  {
   "cell_type": "code",
   "execution_count": 19,
   "metadata": {},
   "outputs": [],
   "source": [
    "from sklearn.linear_model import LinearRegression"
   ]
  },
  {
   "cell_type": "code",
   "execution_count": 20,
   "metadata": {},
   "outputs": [],
   "source": [
    "lm = LinearRegression()"
   ]
  },
  {
   "cell_type": "code",
   "execution_count": 21,
   "metadata": {},
   "outputs": [
    {
     "data": {
      "text/plain": [
       "LinearRegression(copy_X=True, fit_intercept=True, n_jobs=None,\n",
       "         normalize=False)"
      ]
     },
     "execution_count": 21,
     "metadata": {},
     "output_type": "execute_result"
    }
   ],
   "source": [
    "lm.fit(X_train,y_train)"
   ]
  },
  {
   "cell_type": "code",
   "execution_count": 22,
   "metadata": {},
   "outputs": [],
   "source": [
    "predictions = lm.predict(X_test)"
   ]
  },
  {
   "cell_type": "code",
   "execution_count": 23,
   "metadata": {},
   "outputs": [
    {
     "data": {
      "text/plain": [
       "<matplotlib.collections.PathCollection at 0x20262ec2a58>"
      ]
     },
     "execution_count": 23,
     "metadata": {},
     "output_type": "execute_result"
    },
    {
     "data": {
      "image/png": "[encoded data removed]",
      "text/plain": [
       "<Figure size 432x288 with 1 Axes>"
      ]
     },
     "metadata": {
      "needs_background": "light"
     },
     "output_type": "display_data"
    }
   ],
   "source": [
    "plt.scatter(y_test, predictions)"
   ]
  },
  {
   "cell_type": "code",
   "execution_count": 24,
   "metadata": {},
   "outputs": [
    {
     "name": "stderr",
     "output_type": "stream",
     "text": [
      "C:\\Users\\HP\\Anaconda3\\lib\\site-packages\\scipy\\stats\\stats.py:1713: FutureWarning: Using a non-tuple sequence for multidimensional indexing is deprecated; use `arr[tuple(seq)]` instead of `arr[seq]`. In the future this will be interpreted as an array index, `arr[np.array(seq)]`, which will result either in an error or a different result.\n",
      "  return np.add.reduce(sorted[indexer] * weights, axis=axis) / sumval\n"
     ]
    },
    {
     "data": {
      "image/png": "[encoded data removed]",
      "text/plain": [
       "<Figure size 432x288 with 1 Axes>"
      ]
     },
     "metadata": {
      "needs_background": "light"
     },
     "output_type": "display_data"
    }
   ],
   "source": [
    "sns.distplot(y_test - predictions);"
   ]
  },
  {
   "cell_type": "code",
   "execution_count": 25,
   "metadata": {},
   "outputs": [],
   "source": [
    "from sklearn import metrics"
   ]
  },
  {
   "cell_type": "code",
   "execution_count": 26,
   "metadata": {},
   "outputs": [
    {
     "name": "stdout",
     "output_type": "stream",
     "text": [
      "MAE: 0.2670869184432011\n",
      "MSE: 0.09886462933743898\n",
      "RMSE: 0.31442746275959893\n"
     ]
    }
   ],
   "source": [
    "print('MAE:', metrics.mean_absolute_error(y_test, predictions))\n",
    "print('MSE:', metrics.mean_squared_error(y_test, predictions))\n",
    "print('RMSE:', np.sqrt(metrics.mean_squared_error(y_test, predictions)))"
   ]
  },
  {
   "cell_type": "code",
   "execution_count": 28,
   "metadata": {},
   "outputs": [
    {
     "data": {
      "text/html": [
       "<div>\n",
       "<style scoped>\n",
       "    .dataframe tbody tr th:only-of-type {\n",
       "        vertical-align: middle;\n",
       "    }\n",
       "\n",
       "    .dataframe tbody tr th {\n",
       "        vertical-align: top;\n",
       "    }\n",
       "\n",
       "    .dataframe thead th {\n",
       "        text-align: right;\n",
       "    }\n",
       "</style>\n",
       "<table border=\"1\" class=\"dataframe\">\n",
       "  <thead>\n",
       "    <tr style=\"text-align: right;\">\n",
       "      <th></th>\n",
       "      <th>Coefficient</th>\n",
       "    </tr>\n",
       "    <tr>\n",
       "      <th>Segment</th>\n",
       "      <th></th>\n",
       "    </tr>\n",
       "  </thead>\n",
       "  <tbody>\n",
       "    <tr>\n",
       "      <th>Economisch klimaat</th>\n",
       "      <td>0.160882</td>\n",
       "    </tr>\n",
       "    <tr>\n",
       "      <th>Koopbereidheid</th>\n",
       "      <td>0.125240</td>\n",
       "    </tr>\n",
       "    <tr>\n",
       "      <th>Economische situatie afgelopen 12 maande</th>\n",
       "      <td>0.119221</td>\n",
       "    </tr>\n",
       "    <tr>\n",
       "      <th>Economisch situatie komende 12 maanden</th>\n",
       "      <td>0.119133</td>\n",
       "    </tr>\n",
       "    <tr>\n",
       "      <th>Financiële situatie afgelopen 12 maanden</th>\n",
       "      <td>0.159959</td>\n",
       "    </tr>\n",
       "    <tr>\n",
       "      <th>Financiële situatie komende 12 maanden</th>\n",
       "      <td>0.159689</td>\n",
       "    </tr>\n",
       "    <tr>\n",
       "      <th>Gunstige tijd voor grote aankopen</th>\n",
       "      <td>0.156870</td>\n",
       "    </tr>\n",
       "  </tbody>\n",
       "</table>\n",
       "</div>"
      ],
      "text/plain": [
       "                                          Coefficient\n",
       "Segment                                              \n",
       "Economisch klimaat                           0.160882\n",
       "Koopbereidheid                               0.125240\n",
       "Economische situatie afgelopen 12 maande     0.119221\n",
       "Economisch situatie komende 12 maanden       0.119133\n",
       "Financiële situatie afgelopen 12 maanden     0.159959\n",
       "Financiële situatie komende 12 maanden       0.159689\n",
       "Gunstige tijd voor grote aankopen            0.156870"
      ]
     },
     "execution_count": 28,
     "metadata": {},
     "output_type": "execute_result"
    }
   ],
   "source": [
    "coeff_df = pd.DataFrame(lm.coef_,X.columns,columns=['Coefficient'])\n",
    "coeff_df"
   ]
  },
  {
   "cell_type": "code",
   "execution_count": null,
   "metadata": {},
   "outputs": [],
   "source": []
  }
 ],
 "metadata": {
  "kernelspec": {
   "display_name": "Python 3",
   "language": "python",
   "name": "python3"
  },
  "language_info": {
   "codemirror_mode": {
    "name": "ipython",
    "version": 3
   },
   "file_extension": ".py",
   "mimetype": "text/x-python",
   "name": "python",
   "nbconvert_exporter": "python",
   "pygments_lexer": "ipython3",
   "version": "3.7.1"
  }
 },
 "nbformat": 4,
 "nbformat_minor": 2
}
